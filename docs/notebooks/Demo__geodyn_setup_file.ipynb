{
 "cells": [
  {
   "cell_type": "markdown",
   "metadata": {},
   "source": [
    "# Demonstration: Setup File\n",
    "\n",
    "This notebook contains details on the setup file (Unit 5) that is an input to geodyn.  Specifically, we outline which cards are critical to have correctly optioned, and what those cards do.\n",
    "\n",
    "The run parameters for the GEODYN run demoed here are:\n",
    "```\n",
    " - Satellite:             Starlette\n",
    " - Observation Datatype:  SLR\n",
    " - Arc time:              14 days (2003/09/14 - 2003/09/28)\n",
    " - Gen. Accelerations:    Off\n",
    " - Density Model:         MSIS 2.0\n",
    "```\n",
    "\n",
    "\n"
   ]
  },
  {
   "cell_type": "markdown",
   "metadata": {},
   "source": [
    "### Location\n",
    "The setup file can be found in the `setups` directory."
   ]
  },
  {
   "cell_type": "code",
   "execution_count": 1,
   "metadata": {},
   "outputs": [
    {
     "name": "stdout",
     "output_type": "stream",
     "text": [
      "total 7880\r\n",
      "-rw-r--r--. 1 m_geodyn 4296867 Feb 24 00:41 example_st030914_2wk\r\n",
      "-rw-r--r--. 1 m_geodyn  470695 Feb 22 23:25 \u001b[0m\u001b[38;5;9mst030914_2wk.bz2\u001b[0m\r\n",
      "-rw-r--r--. 1 m_geodyn  469224 Feb 22 23:23 \u001b[38;5;9mst030928_2wk.bz2\u001b[0m\r\n",
      "-rw-r--r--. 1 m_geodyn  469782 Feb 22 23:23 \u001b[38;5;9mst031012_2wk.bz2\u001b[0m\r\n",
      "-rw-r--r--. 1 m_geodyn  470030 Feb 22 23:23 \u001b[38;5;9mst031026_2wk.bz2\u001b[0m\r\n",
      "-rw-r--r--. 1 m_geodyn  470095 Feb 22 23:23 \u001b[38;5;9mst031109_2wk.bz2\u001b[0m\r\n",
      "-rw-r--r--. 1 m_geodyn  469724 Feb 22 23:23 \u001b[38;5;9mst031123_2wk.bz2\u001b[0m\r\n",
      "-rw-r--r--. 1 m_geodyn  470064 Feb 22 23:23 \u001b[38;5;9mst031207_2wk.bz2\u001b[0m\r\n",
      "-rw-r--r--. 1 m_geodyn  469973 Feb 22 23:23 \u001b[38;5;9mst031221_2wk.bz2\u001b[0m\r\n"
     ]
    }
   ],
   "source": [
    "ll /data/runs_geodyn/st/setups/msis_acceloff/"
   ]
  },
  {
   "cell_type": "markdown",
   "metadata": {},
   "source": [
    "The file is too big to be read in and presented as an example, so instead I explain the most important card options."
   ]
  },
  {
   "cell_type": "markdown",
   "metadata": {},
   "source": [
    "## DRAG\n",
    "\n",
    "The `DRAG` card is used to modify the drag application and/or requests estimation of drag coefficients.\n",
    "\n",
    "\n",
    "\n",
    "**The input to the setup file follow the following format:**\n",
    "```\n",
    "DRAG             7501001    0.2200000000D+01\n",
    "DRAG             7501001    0.2200000000D+010309140800 0.00    0.100D+02\n",
    "DRAG             7501001    0.2200000000D+010309141600 0.00    0.100D+02\n",
    "DRAG             7501001    0.2200000000D+010309150000 0.00    0.100D+02\n",
    "DRAG             7501001    0.2200000000D+010309150800 0.00    0.100D+02\n",
    "DRAG             7501001    0.2200000000D+010309151600 0.00    0.100D+02\n",
    "DRAG             7501001    0.2200000000D+010309160000 0.00    0.100D+02\n",
    "DRAG             7501001    0.2200000000D+010309160800 0.00    0.100D+02\n",
    "```\n"
   ]
  },
  {
   "cell_type": "markdown",
   "metadata": {},
   "source": [
    "### CONDRG\n",
    "\n",
    "Introduces time constraints for time dependent drag.\n",
    "\n",
    "**The input to the setup file follow the following format:**\n",
    "```\n",
    "CONDRG  1        7501001     0309140000 0.000309280000 0.00      0.50000  28800.\n",
    "```"
   ]
  },
  {
   "cell_type": "markdown",
   "metadata": {},
   "source": [
    "## OBSVU\n",
    "\n",
    "Controls residual printout for all arcs.\n",
    "\n",
    "**Card Switch Options:**\n",
    "- = 4 Indicates residuals are requested on all iterations for all arcs .\n",
    "- = 5 Indicates no residuals are requested for any arc.\n",
    "\n",
    "\n",
    "**The input to the setup file follow the following format:**\n",
    "```\n",
    "OBSVU 4\n",
    "```"
   ]
  },
  {
   "cell_type": "markdown",
   "metadata": {},
   "source": [
    "## RESIDU\n",
    "\n",
    "Requests residual file output on unit 19 on the last inner of the last global iteration .\n",
    "\n",
    "\n",
    "**Card Switch Options:**\n",
    "- Column 7  \n",
    "    - 0 - Residual file will not contain event times or trajectory information .  \n",
    "    - 1 - Requests event times and spacecraft trajectory or true pole station locations at those event times be output along with the residual information . Trajectory output is in the true of a data coordinate system.\n",
    "- Column 8\n",
    "    - 0 - Residual file will not contain observation data .\n",
    "    - 1 - Requests observation data be output along with the residual information .\n",
    "    - 2 - Requests observation data and observation correction data be output along with the residual information.\n",
    "\n",
    "\n",
    "**The input to the setup file follow the following format:**\n",
    "```\n",
    "RESIDU12\n",
    "```"
   ]
  },
  {
   "cell_type": "markdown",
   "metadata": {},
   "source": [
    "## ORBFIL\n",
    "\n",
    "Requests output of trajectory file (s) on specified unit (s) on the last iteration of the run.\n",
    "\n",
    "\n",
    "**Card Switch Options:**\n",
    "- Column 7 -- Coordinate system of output\n",
    "    - 0 - True of date ( default ) 0\n",
    "    - 1 - True of reference date\n",
    "    - 2 - Mean of year 2000\n",
    "- Column 8 -- Switch indicating whether trajectory file\n",
    "    - 0 - Single satellite\n",
    "    - 1 - Set of satellites . This option has meaning only when used in conjunction with sets of satellites (See EPOCH and SLAVE option cards for more details ). If satellite ID in columns 18 -24 is a master satellite , then the trajectory for all satellites in the set will be output .\n",
    "- Columns 9 -11 -- Mandatory unit number for trajectory file . All trajectory files within an arc must have unique unit numbers . The suggested unit number starts at 130. [3]\n",
    "    - This one is very confusing\n",
    "    - 31 was listed before ??\n",
    "- Columns 18-24 -- Satellite ID\n",
    "\n",
    "- Columns 25-44 -- Start date and time for trajectory output ( YYMMDDHHMMSS .SS ) (NO DEFAULT)\n",
    "- Columns 45-59 -- Stop date and time for trajectory output ( YYMMDDHHMMSS .SS ).\n",
    "- Columns 60-72-- Time interval between successive trajectory outputs (seconds)\n",
    "\n",
    "\n",
    "\n",
    "\n",
    "**The input to the setup file follow the following format:**\n",
    "```\n",
    "ORBFIL2 31       7501001     030914000000.0  030928 24200.00 .100000D+01\n",
    "```"
   ]
  },
  {
   "cell_type": "markdown",
   "metadata": {},
   "source": [
    "## ORBTVU\n",
    "\n",
    "Requests trajectory printout . Cartesian elements on unit 8 and Keplerian elements on unit 10.\n",
    "\n",
    "**Card Switch Options:**\n",
    "\n",
    "\n",
    "- Column 7- Frequency of trajectory output\n",
    "    - 0 - Trajectory output viewed between times specified in columns 25 -59 and at interval specified in columns 60 -72.\n",
    "    - 1 - Trajectory output viewed between times specified in columns 25 -59 at data points only .\n",
    "    - 2 - Trajectory output viewed between times specified in columns 25 -59 at data points and at the interval specified in columns 60 -72.\n",
    "- Column 8 - Coordinate system of output\n",
    "    - 0 - True of date 0\n",
    "    - 1 - True of reference date\n",
    "    - 2 - Mean of year 2000\n",
    "- Column 9 - Trajectory type indicator .\n",
    "- Column 10 - Iterations on which trajectory will be printed .\n",
    "    - 0 - First arc iter of first global iter\n",
    "    - 1 - Last arc iter of last global iter\n",
    "    - 2 - Both first first and last last\n",
    "    - 3 - All iterations\n",
    "- Columns 18 - 24 --  Satellite ID. If not specified, applies to all spacecraft  in arc .\n",
    "- Columns 25 - 44  --   Start date and time for trajectory viewing ( YYMMDDHHMMSS .SS ).\n",
    "- Columns 45 - 59 --  Stop date and time for trajectory viewing ( YYMMDDHHMMSS .SS ).\n",
    "- Columns 60 - 72  --   Nominal interval between successive trajectory viewings .\n",
    "\n",
    "\n",
    "\n",
    "\n",
    "**The input to the setup file follow the following format:**\n",
    "```\n",
    "ORBTVU1021       7501001     030914000000.00 030928 00000.00           0.\n",
    "```"
   ]
  },
  {
   "cell_type": "markdown",
   "metadata": {},
   "source": [
    "## ATMDEN\n",
    "\n",
    "**Card Switch Options:**\n",
    "\n",
    "\n",
    "\n",
    "\n",
    "**The input to the setup file follow the following format:**\n",
    "```\n",
    "ATMDEN  86    0\n",
    "```"
   ]
  },
  {
   "cell_type": "markdown",
   "metadata": {},
   "source": [
    "## ACCEL9\n",
    "\n",
    "Requests application and/or adjustment of general acceleration.\n",
    "\n",
    "**NOTE**: For the purposes of researching satellite drag and validating density models, we really want to have the estimation of general accelerations turned off. The estimation of accelerations really just serves to fill in and fudge some of the accelerations that the satellite may be being felt. By estimating these accelerations, we are allowing them to absorb some of the \"error\" in the $\\rho$ and $C_d$.\n",
    "\n",
    "\n",
    "Accel 9 controls the 9-parameter general accelerations that can be made to be estimated on each iteration of GEODYN. \n",
    "\n",
    "Below is a generic description of general accelerations acting on the satellite.  This applies to SLR tracked data.\n",
    "GEODYN is capable of applying and solving for general satellite accelerations of the form\n",
    "$$\\ddot{\\bar{X}}= \\alpha \\hat{u} $$ \n",
    "where $\\hat{u} $ is a unit vector defining the direction of the acceleration and $\\alpha$ is the solved-for parameter. \n",
    "<!-- Below, let $\\bar{X}$ and $\\bar{V}$ be the satellite’s true of date position and velocity.\n",
    "\n",
    "Radial Acceleration\n",
    "\n",
    "$$ \\hat{u} = \\frac{\\bar{X}}{|{\\bar{X}|}}$$\n",
    "\n",
    "Cross-track Acceleration\n",
    "\n",
    "$$ \\hat{u} = \\frac{\\bar{X} \\times \\bar{V}}{|{\\bar{X} \\times \\bar{V}|}}$$\n",
    "\n",
    "\n",
    "Along track Acceleration\n",
    "\n",
    "$$ \\hat{u} = \\frac{\\bar{V}}{|{\\bar{V}|}}$$\n",
    "\n",
    "\n",
    "In-plane Acceleration\n",
    "\n",
    "$$ \\hat{u} = \\frac{(\\bar{X} \\times \\bar{V}) \\times \\bar{V} }{|({\\bar{X} \\times \\bar{V})\\times \\bar{V}|}}$$\n",
    " -->\n",
    " \n",
    "```\n",
    "ACCEL9    99     7501001                    030921000000.00\n",
    "ACCEL9  11       7501001 0.0                                1.000000D+00\n",
    "ACCEL9  12       7501001 0.0                                1.000000D+00\n",
    "ACCEL9  21       7501001 0.0                                1.000000D+00\n",
    "ACCEL9  22       7501001 0.0                                1.000000D+00\n",
    "ACCEL9    99     7501001                    030928000000.00\n",
    "ACCEL9  11       7501001 0.0                                1.000000D+00\n",
    "ACCEL9  12       7501001 0.0                                1.000000D+00\n",
    "ACCEL9  21       7501001 0.0                                1.000000D+00\n",
    "ACCEL9  22       7501001 0.0                                1.000000D+00\n",
    "```\n",
    " \n",
    "```\n",
    "     1st Value (1 or 2) Indicates direction of 9 parameter general acceleration\n",
    "         1 - Along Track ((R x V) x R)\n",
    "         2 - Cross Track (R x V)\n",
    "         3 - Radial (R)\n",
    "\n",
    "      2nd Value (1 or 2) Indicates type of 9 parameter general acceleration parameter\n",
    "         1 - Cosine coefficient (A)\n",
    "         2 - Sine coefficient (B)\n",
    "         3 - Constant (C)\n",
    "```"
   ]
  }
 ],
 "metadata": {
  "kernelspec": {
   "display_name": "Python 3",
   "language": "python",
   "name": "python3"
  },
  "language_info": {
   "codemirror_mode": {
    "name": "ipython",
    "version": 3
   },
   "file_extension": ".py",
   "mimetype": "text/x-python",
   "name": "python",
   "nbconvert_exporter": "python",
   "pygments_lexer": "ipython3",
   "version": "3.8.5"
  }
 },
 "nbformat": 4,
 "nbformat_minor": 4
}
